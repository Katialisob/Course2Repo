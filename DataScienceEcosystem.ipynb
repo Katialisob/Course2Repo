{
 "cells": [
  {
   "cell_type": "markdown",
   "id": "fba38b6d-ada4-41c9-a300-f14e22180d26",
   "metadata": {},
   "source": [
    "# Data Science Tools and Ecosystem"
   ]
  },
  {
   "cell_type": "markdown",
   "id": "c7eec731-85f0-4b42-aec0-64fc54231656",
   "metadata": {},
   "source": [
    "### In this notebook, Data Science Tools and Ecosystem are summarized"
   ]
  },
  {
   "cell_type": "markdown",
   "id": "5289d090-300a-41ff-b19c-4f30259cac2c",
   "metadata": {},
   "source": [
    "#### **Objectives:**\n",
    "\n",
    "##### Some of the key takeaways from this course are:\n",
    "\n",
    "- List popular languages for Data Science\n",
    "- List popular libraries Data Scientists use\n",
    "- Create a table with popular Data Science Tools\n",
    "- Code examples of evaluating arithmetic expressions\n",
    "- Insert markdown cells and customize texts\n",
    "\n"
   ]
  },
  {
   "cell_type": "markdown",
   "id": "397c2a86-6af3-4efc-9fa8-96902d27d1f2",
   "metadata": {},
   "source": [
    "##### Some of the popular languages that Data Scientists use are:\n",
    "1. Python\n",
    "2. SQL\n",
    "3. R\n",
    "4. Java\n",
    "5. C++"
   ]
  },
  {
   "cell_type": "markdown",
   "id": "71bf45b1-0026-489a-bbc0-756f70e9f145",
   "metadata": {},
   "source": [
    "##### Some of the libraries commonly used by Data Scientists include:\n",
    "1. Pandas\n",
    "2. Numpy\n",
    "3. Matplotlib\n",
    "4. Seaborn\n",
    "5. Scikit-learn\n",
    "6. Keras\n",
    "7. TensorFlow\n",
    "8. Pytorch\n",
    "9. ApacheSpark\n",
    "\n"
   ]
  },
  {
   "cell_type": "markdown",
   "id": "73c93dfb-fa92-4fe7-8e19-b327f9710c6d",
   "metadata": {},
   "source": [
    "|Data Science Tools|\n",
    "|------------------|\n",
    "|Jupyter Notebooks|\n",
    "|RStudio|\n",
    "|Spyder|\n"
   ]
  },
  {
   "cell_type": "markdown",
   "id": "a6a63b08-e389-4183-9019-765a1e5a5a3b",
   "metadata": {},
   "source": [
    "### Below are few examples of evaluating arithmetic expressions in Python"
   ]
  },
  {
   "cell_type": "code",
   "execution_count": 4,
   "id": "9c4bd110-48a7-4c88-941e-7bc9e9eb4950",
   "metadata": {
    "tags": []
   },
   "outputs": [
    {
     "data": {
      "text/plain": [
       "17"
      ]
     },
     "execution_count": 4,
     "metadata": {},
     "output_type": "execute_result"
    }
   ],
   "source": [
    "# This is a simple arithmetic expression to multiply then add integers\n",
    "\n",
    "(3*4)+5\n"
   ]
  },
  {
   "cell_type": "code",
   "execution_count": 6,
   "id": "53cf90dd-81aa-499f-9cf4-9ef670c5dc91",
   "metadata": {
    "tags": []
   },
   "outputs": [
    {
     "data": {
      "text/plain": [
       "3.3333333333333335"
      ]
     },
     "execution_count": 6,
     "metadata": {},
     "output_type": "execute_result"
    }
   ],
   "source": [
    "# This will convert 200 minuters to hours by dividing by 60\n",
    "\n",
    "200/60"
   ]
  },
  {
   "cell_type": "markdown",
   "id": "a930a1e3-81e5-4a84-9724-a635ee376db3",
   "metadata": {},
   "source": [
    "## Author\n",
    "#### Katerín Lissine Obregón"
   ]
  }
 ],
 "metadata": {
  "kernelspec": {
   "display_name": "Python",
   "language": "python",
   "name": "conda-env-python-py"
  },
  "language_info": {
   "codemirror_mode": {
    "name": "ipython",
    "version": 3
   },
   "file_extension": ".py",
   "mimetype": "text/x-python",
   "name": "python",
   "nbconvert_exporter": "python",
   "pygments_lexer": "ipython3",
   "version": "3.7.12"
  }
 },
 "nbformat": 4,
 "nbformat_minor": 5
}
